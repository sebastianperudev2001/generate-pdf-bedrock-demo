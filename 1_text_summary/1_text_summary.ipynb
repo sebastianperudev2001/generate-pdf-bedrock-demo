{
 "cells": [
  {
   "cell_type": "markdown",
   "metadata": {},
   "source": [
    "# Demo"
   ]
  },
  {
   "cell_type": "markdown",
   "metadata": {},
   "source": [
    "## 1. Set uṕ a data source for your knowledge base \n",
    "\n",
    "Here is a table with the requested information:\n",
    "\n",
    "| Format                        | Extension    |\n",
    "|-------------------------------|--------------|\n",
    "| Plain text                    | .txt         |\n",
    "| Markdown                      | .md          |\n",
    "| HyperText Markup Language     | .html        |\n",
    "| Microsoft Word document       | .doc/.docx   |\n",
    "| Comma-separated values        | .csv         |\n",
    "| Microsoft Excel spreadsheet   | .xls/.xlsx   |\n",
    "| Portable Document             | .pdf         |\n",
    "\n",
    "\n",
    "<br/>\n",
    "\n",
    "> The data is splited into **chunks**, which is an extract from a data source that is returned when the KB that it belongs to is queried \n",
    "\n",
    "### 3 types of chunks: \n",
    "\n",
    "1. **Default chunking**: By default, Amazon Bedrock automatically splits your source data into chunks, such that each chunk contains, at most, approximately 300 tokens. If a document contains less than 300 token, then it is not split any further\n",
    "2. **Fixed size chunking**: Amazon Bedrock splits your source data into chunks of the approximate size that you set.\n",
    "3. **No chunking**: Amazon Bedrock treats each file as one chunk. If you choose this option, you may want to pre-process your documents by splitting them into separate files before uploading them to an Amazon S3 bucket."
   ]
  },
  {
   "cell_type": "code",
   "execution_count": null,
   "metadata": {},
   "outputs": [],
   "source": [
    "# 0. Create a S3 Bucket and upload content\n",
    "\n",
    "#TODO: Do it from code (this time it was uploaded directly to focus on Bedrock)"
   ]
  },
  {
   "cell_type": "code",
   "execution_count": 29,
   "metadata": {},
   "outputs": [],
   "source": [
    "import boto3\n",
    "import json\n",
    "region_name = 'us-east-1'  # Update this with your desired region\n",
    "\n",
    "brt = boto3.Session(profile_name=\"sebas\", region_name=region_name).client(service_name='bedrock-runtime')\n",
    "\n",
    "modelId = \"anthropic.claude-v2:1\"\n",
    "contentType = 'application/json'\n",
    "accept = 'application/json'\n",
    "human_prompt = \"\"\"\n",
    "Give an outline of 10 chapters for a ebook of AWS services for beginners. \n",
    "The output should be a JSON with the chapter titles and a brief description of each chapter.\n",
    "the JSON structure should be the following:\n",
    "{\n",
    "    \"chapters\": [\n",
    "        {\n",
    "            \"number\": int, \n",
    "            \"title\": string, \n",
    "            \"description\": string\n",
    "        },\n",
    "\n",
    "    ]\n",
    "}\n",
    "\"\"\"\n",
    "body = json.dumps({\n",
    "    'prompt': f'\\n\\nHuman:{human_prompt}\\n\\nAssistant:',\n",
    "    \"max_tokens_to_sample\": 2000,\n",
    "    \"temperature\": 0.5,\n",
    "    \"top_p\": 1,\n",
    "})\n",
    "\n",
    "response = brt.invoke_model(\n",
    "    body=body, \n",
    "    modelId=modelId, \n",
    "    accept=accept, \n",
    "    contentType=contentType\n",
    ")\n",
    "\n",
    "response_body = json.loads(response.get('body').read())"
   ]
  },
  {
   "cell_type": "code",
   "execution_count": 30,
   "metadata": {},
   "outputs": [],
   "source": [
    "import json\n",
    "\n",
    "# Specify the file path\n",
    "file_path = \"file.json\"\n",
    "\n",
    "# Write the response_body to the JSON file\n",
    "with open(file_path, \"w\") as file:\n",
    "    json.dump(response_body['completion'], file)\n"
   ]
  },
  {
   "cell_type": "code",
   "execution_count": 31,
   "metadata": {},
   "outputs": [
    {
     "name": "stdout",
     "output_type": "stream",
     "text": [
      " Here is an outline of 10 chapters for an ebook of AWS services for beginners:\n",
      "\n",
      "```json\n",
      "{\n",
      "    \"chapters\": [\n",
      "        {\n",
      "            \"number\": 1,\n",
      "            \"title\": \"Introduction to AWS\",\n",
      "            \"description\": \"A brief overview of AWS and its key services and concepts.\"\n",
      "        },\n",
      "        {\n",
      "            \"number\": 2,\n",
      "            \"title\": \"AWS Global Infrastructure\", \n",
      "            \"description\": \"Understanding AWS regions, availability zones and edge locations.\"\n",
      "        },\n",
      "        {\n",
      "            \"number\": 3,\n",
      "            \"title\": \"AWS EC2\",\n",
      "            \"description\": \"Provisioning and managing virtual servers using Amazon Elastic Compute Cloud.\"\n",
      "        },\n",
      "        {\n",
      "            \"number\": 4,\n",
      "            \"title\": \"AWS S3\",\n",
      "            \"description\": \"Using Amazon Simple Storage Service for cloud object storage.\" \n",
      "        },\n",
      "        {\n",
      "            \"number\": 5,\n",
      "            \"title\": \"AWS Database Services\",\n",
      "            \"description\": \"Managed database options like RDS, DynamoDB and Redshift.\"\n",
      "        },\n",
      "        {\n",
      "            \"number\": 6,\n",
      "            \"title\": \"AWS Networking and Content Delivery\",\n",
      "            \"description\": \"Services like VPC, CloudFront, Route 53 and API Gateway.\"\n",
      "        },\n",
      "        {\n",
      "            \"number\": 7, \n",
      "            \"title\": \"AWS Security, Identity & Compliance\",\n",
      "            \"description\": \"IAM roles, security groups, AWS Organizations and compliance standards.\"\n",
      "        },\n",
      "        {\n",
      "            \"number\": 8,\n",
      "            \"title\": \"AWS Management Tools\", \n",
      "            \"description\": \"Monitoring, automation and optimization using CloudWatch, CloudFormation and more.\"\n",
      "        },\n",
      "        {\n",
      "            \"number\": 9,\n",
      "            \"title\": \"AWS Storage and Archiving\",\n",
      "            \"description\": \"Long-term data storage with S3 Glacier and Storage Gateway.\"\n",
      "        },\n",
      "        {\n",
      "            \"number\": 10,\n",
      "            \"title\": \"Getting Started with AWS\",\n",
      "            \"description\": \"Creating an AWS account, basics of usage billing and the free tier.\"\n",
      "        }\n",
      "    ]\n",
      "}\n",
      "```\n",
      "\n",
      "This outlines 10 core chapters covering the fundamental AWS services and concepts for beginners, with a chapter description for each. The JSON structure matches the requested format with a chapter number, title and brief description for each chapter. Additional chapters could be added for specific workloads or integrations.\n"
     ]
    }
   ],
   "source": [
    "reply_from_claude = response_body['completion']\n",
    "print(reply_from_claude)"
   ]
  },
  {
   "cell_type": "code",
   "execution_count": 32,
   "metadata": {},
   "outputs": [
    {
     "name": "stdout",
     "output_type": "stream",
     "text": [
      "{'chapters': [{'number': 1, 'title': 'Introduction to AWS', 'description': 'A brief overview of AWS and its key services and concepts.'}, {'number': 2, 'title': 'AWS Global Infrastructure', 'description': 'Understanding AWS regions, availability zones and edge locations.'}, {'number': 3, 'title': 'AWS EC2', 'description': 'Provisioning and managing virtual servers using Amazon Elastic Compute Cloud.'}, {'number': 4, 'title': 'AWS S3', 'description': 'Using Amazon Simple Storage Service for cloud object storage.'}, {'number': 5, 'title': 'AWS Database Services', 'description': 'Managed database options like RDS, DynamoDB and Redshift.'}, {'number': 6, 'title': 'AWS Networking and Content Delivery', 'description': 'Services like VPC, CloudFront, Route 53 and API Gateway.'}, {'number': 7, 'title': 'AWS Security, Identity & Compliance', 'description': 'IAM roles, security groups, AWS Organizations and compliance standards.'}, {'number': 8, 'title': 'AWS Management Tools', 'description': 'Monitoring, automation and optimization using CloudWatch, CloudFormation and more.'}, {'number': 9, 'title': 'AWS Storage and Archiving', 'description': 'Long-term data storage with S3 Glacier and Storage Gateway.'}, {'number': 10, 'title': 'Getting Started with AWS', 'description': 'Creating an AWS account, basics of usage billing and the free tier.'}]}\n"
     ]
    }
   ],
   "source": [
    "import json\n",
    "\n",
    "# Extract the JSON content\n",
    "json_start = reply_from_claude.find(\"```json\") + len(\"```json\")\n",
    "json_end = reply_from_claude.find(\"```\", json_start)\n",
    "json_content = reply_from_claude[json_start:json_end]\n",
    "\n",
    "# Remove newlines from the JSON content\n",
    "json_content = json_content.replace(\"\\n\", \"\")\n",
    "\n",
    "# Parse the JSON content into a dictionary\n",
    "data = json.loads(json_content)\n",
    "\n",
    "# Print the dictionary\n",
    "print(data)\n",
    "\n"
   ]
  },
  {
   "cell_type": "code",
   "execution_count": 33,
   "metadata": {},
   "outputs": [],
   "source": [
    "file_path = \"outline.json\"\n",
    "with open(file_path, \"w\") as file:\n",
    "    json.dump(data, file)\n"
   ]
  },
  {
   "cell_type": "code",
   "execution_count": 1,
   "metadata": {},
   "outputs": [
    {
     "name": "stdout",
     "output_type": "stream",
     "text": [
      "Response Status Code: 403\n",
      "Response Content: {\"message\":\"Authorization header requires 'Credential' parameter. Authorization header requires 'Signature' parameter. Authorization header requires 'SignedHeaders' parameter. Authorization header requires existence of either a 'X-Amz-Date' or a 'Date' header. Authorization=Ck07u8rQEa8fyz8h1NmwA7ebVvb3Gdtw9cOijwdF\"}\n"
     ]
    }
   ],
   "source": [
    "import requests\n",
    "import json\n",
    "\n",
    "url = 'https://vl3cnc62bg.execute-api.us-east-1.amazonaws.com/dev'\n",
    "\n",
    "headers = {\n",
    "    'Content-Type': 'application/json',\n",
    "    'Authorization': 'Ck07u8rQEa8fyz8h1NmwA7ebVvb3Gdtw9cOijwdF'\n",
    "\n",
    "}\n",
    "prompt = \"Hello, I am a human.\"\n",
    "\n",
    "data = {\n",
    "    \"prompt\": prompt,\n",
    "\n",
    "}\n",
    "\n",
    "# Make a POST request with custom headers\n",
    "response = requests.post(url, headers=headers, data=json.dumps(data))\n",
    "\n",
    "# Print the response status code and content\n",
    "print('Response Status Code:', response.status_code)\n",
    "print('Response Content:', response.text)\n"
   ]
  },
  {
   "cell_type": "code",
   "execution_count": 13,
   "metadata": {},
   "outputs": [],
   "source": [
    "import boto3\n",
    "\n",
    "# Create an AWS SSO session\n",
    "session = boto3.Session(profile_name='sebas')\n",
    "\n",
    "# Use the session to make API requests\n",
    "apigateway_client = session.client('apigateway')\n"
   ]
  },
  {
   "cell_type": "code",
   "execution_count": 19,
   "metadata": {},
   "outputs": [
    {
     "name": "stdout",
     "output_type": "stream",
     "text": [
      "Response Status Code: 200\n",
      "Response Body: {\"errorMessage\": \"An error occurred (ValidationException) when calling the InvokeModel operation: Input is too long for requested model.\", \"errorType\": \"ValidationException\", \"requestId\": \"71cb6b33-9e2c-4386-be8e-6a67524a2091\", \"stackTrace\": [\"  File \\\"/var/task/lambda_function.py\\\", line 14, in lambda_handler\\n    client_bedrockrequest=client_bedrock.invoke_model(\\n\", \"  File \\\"/var/lang/lib/python3.12/site-packages/botocore/client.py\\\", line 535, in _api_call\\n    return self._make_api_call(operation_name, kwargs)\\n\", \"  File \\\"/var/lang/lib/python3.12/site-packages/botocore/client.py\\\", line 980, in _make_api_call\\n    raise error_class(parsed_response, operation_name)\\n\"]}\n"
     ]
    }
   ],
   "source": [
    "rest_api_id = 'vl3cnc62bg'\n",
    "resource_id = 'qdd990'\n",
    "http_method = 'POST'\n",
    "path_with_query_string = 'prompt = \"Hello\"'\n",
    "#payload = {'prompt': 'Hello'}\n",
    "\n",
    "response = apigateway_client.test_invoke_method(\n",
    "    restApiId=rest_api_id,\n",
    "    resourceId=resource_id,\n",
    "    httpMethod=http_method,\n",
    "    pathWithQueryString=path_with_query_string,\n",
    "    #body=json.dumps(payload)\n",
    ")\n",
    "\n",
    "# Process the API response\n",
    "print('Response Status Code:', response['status'])\n",
    "print('Response Body:', response['body'])"
   ]
  }
 ],
 "metadata": {
  "kernelspec": {
   "display_name": "Python 3",
   "language": "python",
   "name": "python3"
  },
  "language_info": {
   "codemirror_mode": {
    "name": "ipython",
    "version": 3
   },
   "file_extension": ".py",
   "mimetype": "text/x-python",
   "name": "python",
   "nbconvert_exporter": "python",
   "pygments_lexer": "ipython3",
   "version": "3.10.12"
  }
 },
 "nbformat": 4,
 "nbformat_minor": 2
}
