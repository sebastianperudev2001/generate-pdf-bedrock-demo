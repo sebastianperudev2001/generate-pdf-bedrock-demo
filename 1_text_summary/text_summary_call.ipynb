{
 "cells": [
  {
   "cell_type": "code",
   "execution_count": null,
   "metadata": {},
   "outputs": [],
   "source": [
    "import requests\n",
    "import json\n",
    "\n",
    "url = 'https://vl3cnc62bg.execute-api.us-east-1.amazonaws.com/dev'\n",
    "\n",
    "headers = {\n",
    "    'Content-Type': 'application/json',\n",
    "    'Authorization': 'Ck07u8rQEa8fyz8h1NmwA7ebVvb3Gdtw9cOijwdF'\n",
    "\n",
    "}\n",
    "prompt = \"Hello, I am a human.\"\n",
    "\n",
    "data = {\n",
    "    \"prompt\": prompt,\n",
    "\n",
    "}\n",
    "\n",
    "# Make a POST request with custom headers\n",
    "response = requests.post(url, headers=headers, data=json.dumps(data))\n",
    "\n",
    "# Print the response status code and content\n",
    "print('Response Status Code:', response.status_code)\n",
    "print('Response Content:', response.text)\n"
   ]
  }
 ],
 "metadata": {
  "language_info": {
   "name": "python"
  }
 },
 "nbformat": 4,
 "nbformat_minor": 2
}
